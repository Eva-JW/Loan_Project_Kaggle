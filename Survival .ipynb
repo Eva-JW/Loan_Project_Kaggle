{
 "cells": [
  {
   "cell_type": "code",
   "execution_count": 20,
   "metadata": {},
   "outputs": [
    {
     "name": "stderr",
     "output_type": "stream",
     "text": [
      "C:\\Users\\gqbwang\\AppData\\Local\\Continuum\\anaconda3\\lib\\site-packages\\h5py\\__init__.py:36: FutureWarning: Conversion of the second argument of issubdtype from `float` to `np.floating` is deprecated. In future, it will be treated as `np.float64 == np.dtype(float).type`.\n",
      "  from ._conv import register_converters as _register_converters\n"
     ]
    }
   ],
   "source": [
    "\n",
    "import pandas as pd\n",
    "import numpy as np\n",
    "from xgboost import XGBClassifier\n",
    "import scipy\n",
    "from sklearn.model_selection import train_test_split\n",
    "import seaborn as sns\n",
    "import matplotlib.pyplot as plt\n",
    "from sklearn.ensemble import RandomForestClassifier\n",
    "from sklearn.metrics import roc_auc_score\n",
    "from sklearn.metrics import accuracy_score # use to calculate accuracy\n",
    "import time\n",
    "import warnings\n",
    "warnings.filterwarnings(\"ignore\", category=DeprecationWarning)\n",
    "import tensorflow as tf\n",
    "\n",
    "\n",
    "\n",
    "train = pd.read_csv('P:/Kaggle/20181026_Titanic/train.csv')\n",
    "test = pd.read_csv('P:/Kaggle/20181026_Titanic/test.csv')\n",
    "print(train.head())\n",
    "print(test.head())\n",
    "print(train.shape)\n",
    "print(test.shape)\n",
    "\n",
    "data = pd.concat([train,test])\n",
    "print(data.shape)\n",
    "data.tail()\n"
   ]
  },
  {
   "cell_type": "code",
   "execution_count": 35,
   "metadata": {},
   "outputs": [
    {
     "data": {
      "text/plain": [
       "0.0    549\n",
       "1.0    342\n",
       "Name: Survived, dtype: int64"
      ]
     },
     "execution_count": 35,
     "metadata": {},
     "output_type": "execute_result"
    }
   ],
   "source": [
    "data['Survived'].value_counts()"
   ]
  },
  {
   "cell_type": "code",
   "execution_count": 3,
   "metadata": {},
   "outputs": [
    {
     "name": "stdout",
     "output_type": "stream",
     "text": [
      "Age            float64\n",
      "Cabin           object\n",
      "Embarked        object\n",
      "Fare           float64\n",
      "Name            object\n",
      "Parch            int64\n",
      "PassengerId      int64\n",
      "Pclass           int64\n",
      "Sex             object\n",
      "SibSp            int64\n",
      "Survived       float64\n",
      "Ticket          object\n",
      "dtype: object\n",
      "             Missing% DataType\n",
      "Age          0.200917  float64\n",
      "Cabin        0.774637   object\n",
      "Embarked     0.001528   object\n",
      "Fare         0.000764  float64\n",
      "Name         0.000000   object\n",
      "Parch        0.000000    int64\n",
      "PassengerId  0.000000    int64\n",
      "Pclass       0.000000    int64\n",
      "Sex          0.000000   object\n",
      "SibSp        0.000000    int64\n",
      "Survived     0.319328  float64\n",
      "Ticket       0.000000   object\n"
     ]
    }
   ],
   "source": [
    "# find dtypes\n",
    "print(data.dtypes)\n",
    "\n",
    "# missing values\n",
    "missing_col = pd.merge((pd.DataFrame(data.isnull().sum()/len(data))),pd.DataFrame(data.dtypes),left_index=True,right_index=True,how='left')\n",
    "missing_col.columns = ['Missing%','DataType']\n",
    "print(missing_col)\n",
    "\n",
    "# drop id,name and ticket\n",
    "data_drop = data.drop(columns=['Name','PassengerId','Ticket'])"
   ]
  },
  {
   "cell_type": "code",
   "execution_count": 4,
   "metadata": {},
   "outputs": [
    {
     "data": {
      "text/plain": [
       "0.0    967\n",
       "1.0    342\n",
       "Name: Survived, dtype: int64"
      ]
     },
     "execution_count": 4,
     "metadata": {},
     "output_type": "execute_result"
    }
   ],
   "source": [
    "# check target:survived\n",
    "data_drop['Survived'].fillna(0,inplace=True)\n",
    "data_drop['Survived'].value_counts(dropna=False)"
   ]
  },
  {
   "cell_type": "code",
   "execution_count": 6,
   "metadata": {},
   "outputs": [
    {
     "name": "stdout",
     "output_type": "stream",
     "text": [
      "Cabin has 187 levels\n",
      "                 Cabin\n",
      "Missing           1014\n",
      "C23 C25 C27          6\n",
      "B57 B59 B63 B66      5\n",
      "G6                   5\n",
      "F33                  4\n",
      "F2                   4\n",
      "D                    4\n",
      "C78                  4\n",
      "B96 B98              4\n",
      "C22 C26              4\n",
      "Embarked has 4 levels\n",
      "         Embarked\n",
      "S             914\n",
      "C             270\n",
      "Q             123\n",
      "Missing         2\n",
      "Sex has 2 levels\n",
      "        Sex\n",
      "male    843\n",
      "female  466\n",
      "[]\n"
     ]
    },
    {
     "data": {
      "text/plain": [
       "Age         263\n",
       "Cabin         0\n",
       "Embarked      0\n",
       "Fare          1\n",
       "Parch         0\n",
       "Pclass        0\n",
       "Sex           0\n",
       "SibSp         0\n",
       "Survived      0\n",
       "dtype: int64"
      ]
     },
     "execution_count": 6,
     "metadata": {},
     "output_type": "execute_result"
    }
   ],
   "source": [
    "# take a look at how many levels for each categorical variables\n",
    "data_cat = data_drop.select_dtypes(include=['object'])\n",
    "\n",
    "for var in data_cat.columns.tolist():\n",
    "    print(var+\" has \"+str(data_cat[var].value_counts(dropna=False).size)+\" levels\")\n",
    "    print(pd.DataFrame(data_cat[var].value_counts(dropna=False)).head(10))\n",
    "    \n",
    "# find categorical variables which has missing values\n",
    "categorical_var_missing = data_cat.loc[:,data_cat.isnull().any()].columns.tolist()\n",
    "print(categorical_var_missing)\n",
    "\n",
    "# replace missing values with 'Missing'\n",
    "for var in categorical_var_missing:\n",
    "    data_drop[var].fillna('Missing',inplace=True)\n",
    "    \n",
    "data_drop.isnull().sum()"
   ]
  },
  {
   "cell_type": "code",
   "execution_count": 7,
   "metadata": {},
   "outputs": [
    {
     "name": "stdout",
     "output_type": "stream",
     "text": [
      "    Age     Fare  Parch  Pclass  SibSp  Survived\n",
      "0  22.0   7.2500      0       3      1       0.0\n",
      "1  38.0  71.2833      0       1      1       1.0\n",
      "2  26.0   7.9250      0       3      0       1.0\n",
      "3  35.0  53.1000      0       1      1       1.0\n",
      "4  35.0   8.0500      0       3      0       0.0\n",
      "Age     263\n",
      "Fare      1\n",
      "dtype: int64\n",
      "['Age']\n"
     ]
    }
   ],
   "source": [
    "# find default missing values for numeric var\n",
    "print(data_drop.select_dtypes(exclude='object').head())\n",
    "\n",
    "# check missing values\n",
    "missing_num_var= data_drop.select_dtypes(exclude='object').isnull().sum().sort_values(ascending=False)\n",
    "print(missing_num_var[missing_num_var>0])\n",
    "\n",
    "num_var_missing = (missing_num_var[missing_num_var>0]).index.tolist()\n",
    "\n",
    "num_var_missing.remove('Fare')\n",
    "print(num_var_missing)"
   ]
  },
  {
   "cell_type": "code",
   "execution_count": 8,
   "metadata": {},
   "outputs": [
    {
     "name": "stdout",
     "output_type": "stream",
     "text": [
      "    Age     Fare  Parch  Pclass  SibSp  Survived\n",
      "0  22.0   7.2500      0       3      1       0.0\n",
      "1  38.0  71.2833      0       1      1       1.0\n",
      "2  26.0   7.9250      0       3      0       1.0\n",
      "3  35.0  53.1000      0       1      1       1.0\n",
      "4  35.0   8.0500      0       3      0       0.0\n"
     ]
    }
   ],
   "source": [
    "data_2_num = data_drop.select_dtypes(exclude='object')\n",
    "default_missing= data_drop.copy()\n",
    "print(data_2_num.head())"
   ]
  },
  {
   "cell_type": "code",
   "execution_count": 9,
   "metadata": {},
   "outputs": [
    {
     "name": "stdout",
     "output_type": "stream",
     "text": [
      "      Survived\n",
      "Age           \n",
      "0.17       0.0\n",
      "24.5       0.0\n",
      "26.5       0.0\n",
      "28.5       0.0\n",
      "30.5       0.0\n",
      "    Age  Survived\n",
      "0  0.17       0.0\n",
      "1  24.5       0.0\n",
      "2  26.5       0.0\n",
      "3  28.5       0.0\n",
      "4  30.5       0.0\n",
      "     Age  Survived\n",
      "41  23.0  0.192308\n",
      "43  26.0  0.200000\n",
      "     Age  Survived  Missing_mean  Missing_mean_diff_abs\n",
      "41  23.0  0.192308      0.197719               0.005411\n",
      "43  26.0  0.200000      0.197719               0.002281\n",
      "Age default value is 26.0\n",
      "5    NaN\n",
      "17   NaN\n",
      "19   NaN\n",
      "26   NaN\n",
      "28   NaN\n",
      "29   NaN\n",
      "Name: Age, dtype: float64\n",
      "0    22.0\n",
      "1    38.0\n",
      "2    26.0\n",
      "3    35.0\n",
      "4    35.0\n",
      "5    26.0\n",
      "Name: Age, dtype: float64\n"
     ]
    },
    {
     "data": {
      "text/plain": [
       "1"
      ]
     },
     "execution_count": 9,
     "metadata": {},
     "output_type": "execute_result"
    }
   ],
   "source": [
    "## handle missing values for numeric variables\n",
    "########def to find default value start#########################################\n",
    "def replacedefault_value(numtable,table,var,var_response):\n",
    "    data = numtable[var_response].groupby([numtable[var].astype(str)]).mean().sort_values().to_frame()\n",
    "    print(data.head())\n",
    "\n",
    "# change index of data as a column in data\n",
    "    data.reset_index(level=0,inplace=True)\n",
    "    print(data.head())\n",
    "\n",
    "# find the row number when variable = missing \n",
    "# missing row is a numpy array, change to list before append together\n",
    "    missingrow = list(data.loc[data[var] == 'nan',:].index.values)\n",
    "    missingrow_prior =  list(data.loc[data[var] == 'nan',:].index.values -1 )\n",
    "    missingrow_after =  list(data.loc[data[var] == 'nan',:].index.values +1 )\n",
    "\n",
    "#append missingrow, prior and after together\n",
    "    missingrow_closer = missingrow_prior+missingrow_after\n",
    "    data2 = data.loc[missingrow_closer,:]\n",
    "    print(data2)\n",
    "\n",
    "    data2['Missing_mean'] = (data.loc[data[var]\n",
    "                                      == 'nan',var_response].values[0])\n",
    "# get absolute value \n",
    "    data2['Missing_mean_diff_abs'] = (abs(data2[var_response] - \n",
    "                                          data2['Missing_mean']))\n",
    "    print(data2)\n",
    "# set default\n",
    "    default = data2.loc[(min(data2['Missing_mean_diff_abs']) \n",
    "                         == data2['Missing_mean_diff_abs']),\n",
    "                        var].values[0]\n",
    "    \n",
    "    type_var = numtable[var].dtype\n",
    "    default_T = float(default)\n",
    "    print(var,'default value is',default_T) \n",
    "\n",
    "    # replace nan by default value\n",
    "    print(table.loc[numtable[var].isnull() ,var][:6])\n",
    "    table.loc[table[var].isnull(),var] = default_T\n",
    "    print(table[var][:6])\n",
    "########def to find default value end#########################################\n",
    "\n",
    "for var in num_var_missing:\n",
    "    replacedefault_value(data_2_num,default_missing, var,'Survived')\n",
    "\n",
    "# all value false then false, if one value is true then return true\n",
    "default_missing.isnull().any().sum()"
   ]
  },
  {
   "cell_type": "code",
   "execution_count": 10,
   "metadata": {},
   "outputs": [],
   "source": [
    "# fill Fare missing values with its mean\n",
    "default_missing['Fare'].fillna(data['Fare'].mean(),inplace=True)"
   ]
  },
  {
   "cell_type": "code",
   "execution_count": 11,
   "metadata": {},
   "outputs": [
    {
     "data": {
      "text/plain": [
       "Age         False\n",
       "Cabin       False\n",
       "Embarked    False\n",
       "Fare        False\n",
       "Parch       False\n",
       "Pclass      False\n",
       "Sex         False\n",
       "SibSp       False\n",
       "Survived    False\n",
       "dtype: bool"
      ]
     },
     "execution_count": 11,
     "metadata": {},
     "output_type": "execute_result"
    }
   ],
   "source": [
    "default_missing.isnull().sum()\n",
    "default_missing.isnull().any()"
   ]
  },
  {
   "cell_type": "code",
   "execution_count": 12,
   "metadata": {},
   "outputs": [
    {
     "name": "stdout",
     "output_type": "stream",
     "text": [
      "    Age     Fare  Parch  Pclass  SibSp  Survived\n",
      "0  22.0   7.2500      0       3      1       0.0\n",
      "1  38.0  71.2833      0       1      1       1.0\n",
      "2  26.0   7.9250      0       3      0       1.0\n",
      "3  35.0  53.1000      0       1      1       1.0\n",
      "4  35.0   8.0500      0       3      0       0.0\n"
     ]
    },
    {
     "data": {
      "text/html": [
       "<div>\n",
       "<style scoped>\n",
       "    .dataframe tbody tr th:only-of-type {\n",
       "        vertical-align: middle;\n",
       "    }\n",
       "\n",
       "    .dataframe tbody tr th {\n",
       "        vertical-align: top;\n",
       "    }\n",
       "\n",
       "    .dataframe thead th {\n",
       "        text-align: right;\n",
       "    }\n",
       "</style>\n",
       "<table border=\"1\" class=\"dataframe\">\n",
       "  <thead>\n",
       "    <tr style=\"text-align: right;\">\n",
       "      <th></th>\n",
       "      <th>Survived</th>\n",
       "      <th>Age</th>\n",
       "      <th>Fare</th>\n",
       "      <th>Parch</th>\n",
       "      <th>Pclass</th>\n",
       "      <th>SibSp</th>\n",
       "    </tr>\n",
       "  </thead>\n",
       "  <tbody>\n",
       "    <tr>\n",
       "      <th>Survived</th>\n",
       "      <td>1.000000</td>\n",
       "      <td>-0.051073</td>\n",
       "      <td>0.173630</td>\n",
       "      <td>0.054908</td>\n",
       "      <td>-0.244686</td>\n",
       "      <td>-0.014375</td>\n",
       "    </tr>\n",
       "    <tr>\n",
       "      <th>Age</th>\n",
       "      <td>-0.051073</td>\n",
       "      <td>1.000000</td>\n",
       "      <td>0.185943</td>\n",
       "      <td>-0.120084</td>\n",
       "      <td>-0.388685</td>\n",
       "      <td>-0.188449</td>\n",
       "    </tr>\n",
       "    <tr>\n",
       "      <th>Fare</th>\n",
       "      <td>0.173630</td>\n",
       "      <td>0.185943</td>\n",
       "      <td>1.000000</td>\n",
       "      <td>0.221522</td>\n",
       "      <td>-0.558477</td>\n",
       "      <td>0.160224</td>\n",
       "    </tr>\n",
       "    <tr>\n",
       "      <th>Parch</th>\n",
       "      <td>0.054908</td>\n",
       "      <td>-0.120084</td>\n",
       "      <td>0.221522</td>\n",
       "      <td>1.000000</td>\n",
       "      <td>0.018322</td>\n",
       "      <td>0.373587</td>\n",
       "    </tr>\n",
       "    <tr>\n",
       "      <th>Pclass</th>\n",
       "      <td>-0.244686</td>\n",
       "      <td>-0.388685</td>\n",
       "      <td>-0.558477</td>\n",
       "      <td>0.018322</td>\n",
       "      <td>1.000000</td>\n",
       "      <td>0.060832</td>\n",
       "    </tr>\n",
       "    <tr>\n",
       "      <th>SibSp</th>\n",
       "      <td>-0.014375</td>\n",
       "      <td>-0.188449</td>\n",
       "      <td>0.160224</td>\n",
       "      <td>0.373587</td>\n",
       "      <td>0.060832</td>\n",
       "      <td>1.000000</td>\n",
       "    </tr>\n",
       "  </tbody>\n",
       "</table>\n",
       "</div>"
      ],
      "text/plain": [
       "          Survived       Age      Fare     Parch    Pclass     SibSp\n",
       "Survived  1.000000 -0.051073  0.173630  0.054908 -0.244686 -0.014375\n",
       "Age      -0.051073  1.000000  0.185943 -0.120084 -0.388685 -0.188449\n",
       "Fare      0.173630  0.185943  1.000000  0.221522 -0.558477  0.160224\n",
       "Parch     0.054908 -0.120084  0.221522  1.000000  0.018322  0.373587\n",
       "Pclass   -0.244686 -0.388685 -0.558477  0.018322  1.000000  0.060832\n",
       "SibSp    -0.014375 -0.188449  0.160224  0.373587  0.060832  1.000000"
      ]
     },
     "execution_count": 12,
     "metadata": {},
     "output_type": "execute_result"
    }
   ],
   "source": [
    "# correlation matrix\n",
    "default_missing.head()\n",
    "num_var = default_missing.select_dtypes(exclude='object')\n",
    "print(num_var.head())\n",
    "\n",
    "col = num_var.columns.tolist()\n",
    "col.remove('Survived')\n",
    "col.insert(0,'Survived')\n",
    "col\n",
    "num_var[col].corr()"
   ]
  },
  {
   "cell_type": "code",
   "execution_count": 13,
   "metadata": {},
   "outputs": [
    {
     "name": "stdout",
     "output_type": "stream",
     "text": [
      "(1309, 3)\n",
      "(1309, 4)\n",
      "['Cabin', 'Embarked', 'Sex']\n",
      "       Cabin  target_mean\n",
      "0        A10     0.000000\n",
      "1        A11     0.000000\n",
      "2        A14     0.000000\n",
      "3        A16     1.000000\n",
      "4        A18     0.000000\n",
      "5        A19     0.000000\n",
      "6        A20     1.000000\n",
      "7        A21     0.000000\n",
      "8        A23     1.000000\n",
      "9        A24     0.000000\n",
      "10       A26     1.000000\n",
      "11       A29     0.000000\n",
      "12       A31     1.000000\n",
      "13       A32     0.000000\n",
      "14       A34     0.333333\n",
      "15       A36     0.000000\n",
      "16        A5     0.000000\n",
      "17        A6     1.000000\n",
      "18        A7     0.000000\n",
      "19        A9     0.000000\n",
      "20       B10     0.000000\n",
      "21      B101     1.000000\n",
      "22      B102     0.000000\n",
      "23       B11     0.000000\n",
      "24       B18     1.000000\n",
      "25       B19     0.000000\n",
      "26       B20     1.000000\n",
      "27       B22     0.500000\n",
      "28       B24     0.000000\n",
      "29       B26     0.000000\n",
      "..       ...          ...\n",
      "157      E36     1.000000\n",
      "158      E38     0.000000\n",
      "159  E39 E41     0.000000\n",
      "160      E40     1.000000\n",
      "161      E44     0.500000\n",
      "162      E45     0.000000\n",
      "163      E46     0.000000\n",
      "164      E49     1.000000\n",
      "165      E50     0.500000\n",
      "166      E52     0.000000\n",
      "167      E58     0.000000\n",
      "168      E60     0.000000\n",
      "169      E63     0.000000\n",
      "170      E67     0.500000\n",
      "171      E68     1.000000\n",
      "172      E77     0.000000\n",
      "173       E8     1.000000\n",
      "174        F     0.000000\n",
      "175    F E46     0.000000\n",
      "176    F E57     0.000000\n",
      "177    F E69     1.000000\n",
      "178    F G63     0.000000\n",
      "179    F G73     0.000000\n",
      "180       F2     0.500000\n",
      "181      F33     0.750000\n",
      "182      F38     0.000000\n",
      "183       F4     0.500000\n",
      "184       G6     0.400000\n",
      "185  Missing     0.203156\n",
      "186        T     0.000000\n",
      "\n",
      "[187 rows x 2 columns]\n"
     ]
    },
    {
     "data": {
      "image/png": "[encoded data removed]",
      "text/plain": [
       "<Figure size 432x288 with 1 Axes>"
      ]
     },
     "metadata": {},
     "output_type": "display_data"
    },
    {
     "name": "stdout",
     "output_type": "stream",
     "text": [
      "  Embarked  target_mean\n",
      "0        C     0.344444\n",
      "1  Missing     1.000000\n",
      "2        Q     0.243902\n",
      "3        S     0.237418\n"
     ]
    },
    {
     "data": {
      "image/png": "[encoded data removed]",
      "text/plain": [
       "<Figure size 432x288 with 1 Axes>"
      ]
     },
     "metadata": {},
     "output_type": "display_data"
    },
    {
     "name": "stdout",
     "output_type": "stream",
     "text": [
      "      Sex  target_mean\n",
      "0  female       0.5000\n",
      "1    male       0.1293\n"
     ]
    },
    {
     "data": {
      "image/png": "[encoded data removed]",
      "text/plain": [
       "<Figure size 432x288 with 1 Axes>"
      ]
     },
     "metadata": {},
     "output_type": "display_data"
    }
   ],
   "source": [
    "# get the distribution of categorical variables vs Survived\n",
    "final_cha_var = default_missing.select_dtypes(include='object')\n",
    "target = default_missing['Survived']\n",
    "target.head()\n",
    "print(final_cha_var.shape)\n",
    "\n",
    "# concatenate loan_final_cha_var with target together by columns, axis=1 by column\n",
    "# default is outjoin by index\n",
    "cha_var = pd.concat([final_cha_var,target],axis=1)\n",
    "print(cha_var.shape)\n",
    "cha_var.head()\n",
    "\n",
    "# find avarage target based on each bins of all categorical variables\n",
    "def avarage_target_group(var,target):\n",
    "    table = cha_var.groupby(var).agg({target:'mean'}).reset_index()\n",
    "    table.rename({target:'target_mean'},inplace=True,axis=1)\n",
    "    print(table)\n",
    "    sns.barplot(x=var,y='target_mean',data=table)\n",
    "    plt.show()\n",
    "\n",
    "# print all character variable list\n",
    "cha_var_list = cha_var.columns.tolist()\n",
    "del cha_var_list[-1]\n",
    "print(cha_var_list)\n",
    "\n",
    "for var in cha_var_list:\n",
    "    avarage_target_group(var,'Survived')"
   ]
  },
  {
   "cell_type": "code",
   "execution_count": 14,
   "metadata": {
    "scrolled": true
   },
   "outputs": [
    {
     "name": "stdout",
     "output_type": "stream",
     "text": [
      "['Cabin', 'Embarked', 'Sex']\n"
     ]
    },
    {
     "data": {
      "text/html": [
       "<div>\n",
       "<style scoped>\n",
       "    .dataframe tbody tr th:only-of-type {\n",
       "        vertical-align: middle;\n",
       "    }\n",
       "\n",
       "    .dataframe tbody tr th {\n",
       "        vertical-align: top;\n",
       "    }\n",
       "\n",
       "    .dataframe thead th {\n",
       "        text-align: right;\n",
       "    }\n",
       "</style>\n",
       "<table border=\"1\" class=\"dataframe\">\n",
       "  <thead>\n",
       "    <tr style=\"text-align: right;\">\n",
       "      <th></th>\n",
       "      <th>Age</th>\n",
       "      <th>Cabin</th>\n",
       "      <th>Embarked</th>\n",
       "      <th>Fare</th>\n",
       "      <th>Parch</th>\n",
       "      <th>Pclass</th>\n",
       "      <th>Sex</th>\n",
       "      <th>SibSp</th>\n",
       "      <th>Survived</th>\n",
       "      <th>Cabin_Mean</th>\n",
       "      <th>Embarked_Mean</th>\n",
       "      <th>Sex_Mean</th>\n",
       "    </tr>\n",
       "  </thead>\n",
       "  <tbody>\n",
       "    <tr>\n",
       "      <th>0</th>\n",
       "      <td>22.0</td>\n",
       "      <td>Missing</td>\n",
       "      <td>S</td>\n",
       "      <td>7.2500</td>\n",
       "      <td>0</td>\n",
       "      <td>3</td>\n",
       "      <td>male</td>\n",
       "      <td>1</td>\n",
       "      <td>0.0</td>\n",
       "      <td>0.203156</td>\n",
       "      <td>0.237418</td>\n",
       "      <td>0.1293</td>\n",
       "    </tr>\n",
       "    <tr>\n",
       "      <th>1</th>\n",
       "      <td>38.0</td>\n",
       "      <td>C85</td>\n",
       "      <td>C</td>\n",
       "      <td>71.2833</td>\n",
       "      <td>0</td>\n",
       "      <td>1</td>\n",
       "      <td>female</td>\n",
       "      <td>1</td>\n",
       "      <td>1.0</td>\n",
       "      <td>0.500000</td>\n",
       "      <td>0.344444</td>\n",
       "      <td>0.5000</td>\n",
       "    </tr>\n",
       "    <tr>\n",
       "      <th>2</th>\n",
       "      <td>26.0</td>\n",
       "      <td>Missing</td>\n",
       "      <td>S</td>\n",
       "      <td>7.9250</td>\n",
       "      <td>0</td>\n",
       "      <td>3</td>\n",
       "      <td>female</td>\n",
       "      <td>0</td>\n",
       "      <td>1.0</td>\n",
       "      <td>0.203156</td>\n",
       "      <td>0.237418</td>\n",
       "      <td>0.5000</td>\n",
       "    </tr>\n",
       "    <tr>\n",
       "      <th>3</th>\n",
       "      <td>35.0</td>\n",
       "      <td>C123</td>\n",
       "      <td>S</td>\n",
       "      <td>53.1000</td>\n",
       "      <td>0</td>\n",
       "      <td>1</td>\n",
       "      <td>female</td>\n",
       "      <td>1</td>\n",
       "      <td>1.0</td>\n",
       "      <td>0.500000</td>\n",
       "      <td>0.237418</td>\n",
       "      <td>0.5000</td>\n",
       "    </tr>\n",
       "    <tr>\n",
       "      <th>4</th>\n",
       "      <td>35.0</td>\n",
       "      <td>Missing</td>\n",
       "      <td>S</td>\n",
       "      <td>8.0500</td>\n",
       "      <td>0</td>\n",
       "      <td>3</td>\n",
       "      <td>male</td>\n",
       "      <td>0</td>\n",
       "      <td>0.0</td>\n",
       "      <td>0.203156</td>\n",
       "      <td>0.237418</td>\n",
       "      <td>0.1293</td>\n",
       "    </tr>\n",
       "  </tbody>\n",
       "</table>\n",
       "</div>"
      ],
      "text/plain": [
       "    Age    Cabin Embarked     Fare  Parch  Pclass     Sex  SibSp  Survived  \\\n",
       "0  22.0  Missing        S   7.2500      0       3    male      1       0.0   \n",
       "1  38.0      C85        C  71.2833      0       1  female      1       1.0   \n",
       "2  26.0  Missing        S   7.9250      0       3  female      0       1.0   \n",
       "3  35.0     C123        S  53.1000      0       1  female      1       1.0   \n",
       "4  35.0  Missing        S   8.0500      0       3    male      0       0.0   \n",
       "\n",
       "   Cabin_Mean  Embarked_Mean  Sex_Mean  \n",
       "0    0.203156       0.237418    0.1293  \n",
       "1    0.500000       0.344444    0.5000  \n",
       "2    0.203156       0.237418    0.5000  \n",
       "3    0.500000       0.237418    0.5000  \n",
       "4    0.203156       0.237418    0.1293  "
      ]
     },
     "execution_count": 14,
     "metadata": {},
     "output_type": "execute_result"
    }
   ],
   "source": [
    "# get_dummy to change categorical data dummy variables\n",
    "cat = default_missing.select_dtypes(include='object')\n",
    "cat_col = cat.columns.tolist()\n",
    "print(cat_col)\n",
    "\n",
    "\n",
    "for var in cat_col:\n",
    "    t = pd.DataFrame(default_missing.groupby(var).agg({'Survived':np.mean})).reset_index()\n",
    "    t.columns=[var,var+'_Mean']\n",
    "    default_missing=pd.merge(default_missing,t,on=var,how='left')\n",
    "\n",
    "default_missing.head()\n",
    "\n",
    "\n",
    "# data_after_dummies = pd.get_dummies(default_missing,columns=cat_col)\n",
    "# data_after_dummies.dtypes\n",
    "# data_after_dummies.isnull().sum().sum()"
   ]
  },
  {
   "cell_type": "code",
   "execution_count": 15,
   "metadata": {},
   "outputs": [
    {
     "data": {
      "text/html": [
       "<div>\n",
       "<style scoped>\n",
       "    .dataframe tbody tr th:only-of-type {\n",
       "        vertical-align: middle;\n",
       "    }\n",
       "\n",
       "    .dataframe tbody tr th {\n",
       "        vertical-align: top;\n",
       "    }\n",
       "\n",
       "    .dataframe thead th {\n",
       "        text-align: right;\n",
       "    }\n",
       "</style>\n",
       "<table border=\"1\" class=\"dataframe\">\n",
       "  <thead>\n",
       "    <tr style=\"text-align: right;\">\n",
       "      <th></th>\n",
       "      <th>Age</th>\n",
       "      <th>Fare</th>\n",
       "      <th>Parch</th>\n",
       "      <th>Pclass</th>\n",
       "      <th>SibSp</th>\n",
       "      <th>Survived</th>\n",
       "      <th>Cabin_Mean</th>\n",
       "      <th>Embarked_Mean</th>\n",
       "      <th>Sex_Mean</th>\n",
       "    </tr>\n",
       "  </thead>\n",
       "  <tbody>\n",
       "    <tr>\n",
       "      <th>0</th>\n",
       "      <td>22.0</td>\n",
       "      <td>7.2500</td>\n",
       "      <td>0</td>\n",
       "      <td>3</td>\n",
       "      <td>1</td>\n",
       "      <td>0.0</td>\n",
       "      <td>0.203156</td>\n",
       "      <td>0.237418</td>\n",
       "      <td>0.1293</td>\n",
       "    </tr>\n",
       "    <tr>\n",
       "      <th>1</th>\n",
       "      <td>38.0</td>\n",
       "      <td>71.2833</td>\n",
       "      <td>0</td>\n",
       "      <td>1</td>\n",
       "      <td>1</td>\n",
       "      <td>1.0</td>\n",
       "      <td>0.500000</td>\n",
       "      <td>0.344444</td>\n",
       "      <td>0.5000</td>\n",
       "    </tr>\n",
       "    <tr>\n",
       "      <th>2</th>\n",
       "      <td>26.0</td>\n",
       "      <td>7.9250</td>\n",
       "      <td>0</td>\n",
       "      <td>3</td>\n",
       "      <td>0</td>\n",
       "      <td>1.0</td>\n",
       "      <td>0.203156</td>\n",
       "      <td>0.237418</td>\n",
       "      <td>0.5000</td>\n",
       "    </tr>\n",
       "    <tr>\n",
       "      <th>3</th>\n",
       "      <td>35.0</td>\n",
       "      <td>53.1000</td>\n",
       "      <td>0</td>\n",
       "      <td>1</td>\n",
       "      <td>1</td>\n",
       "      <td>1.0</td>\n",
       "      <td>0.500000</td>\n",
       "      <td>0.237418</td>\n",
       "      <td>0.5000</td>\n",
       "    </tr>\n",
       "    <tr>\n",
       "      <th>4</th>\n",
       "      <td>35.0</td>\n",
       "      <td>8.0500</td>\n",
       "      <td>0</td>\n",
       "      <td>3</td>\n",
       "      <td>0</td>\n",
       "      <td>0.0</td>\n",
       "      <td>0.203156</td>\n",
       "      <td>0.237418</td>\n",
       "      <td>0.1293</td>\n",
       "    </tr>\n",
       "  </tbody>\n",
       "</table>\n",
       "</div>"
      ],
      "text/plain": [
       "    Age     Fare  Parch  Pclass  SibSp  Survived  Cabin_Mean  Embarked_Mean  \\\n",
       "0  22.0   7.2500      0       3      1       0.0    0.203156       0.237418   \n",
       "1  38.0  71.2833      0       1      1       1.0    0.500000       0.344444   \n",
       "2  26.0   7.9250      0       3      0       1.0    0.203156       0.237418   \n",
       "3  35.0  53.1000      0       1      1       1.0    0.500000       0.237418   \n",
       "4  35.0   8.0500      0       3      0       0.0    0.203156       0.237418   \n",
       "\n",
       "   Sex_Mean  \n",
       "0    0.1293  \n",
       "1    0.5000  \n",
       "2    0.5000  \n",
       "3    0.5000  \n",
       "4    0.1293  "
      ]
     },
     "execution_count": 15,
     "metadata": {},
     "output_type": "execute_result"
    }
   ],
   "source": [
    "# drop original cat\n",
    "final_t = default_missing.drop(columns=cat_col)\n",
    "final_t.head()"
   ]
  },
  {
   "cell_type": "code",
   "execution_count": 16,
   "metadata": {},
   "outputs": [
    {
     "data": {
      "text/plain": [
       "['Age',\n",
       " 'Fare',\n",
       " 'Parch',\n",
       " 'Pclass',\n",
       " 'SibSp',\n",
       " 'Cabin_Mean',\n",
       " 'Embarked_Mean',\n",
       " 'Sex_Mean']"
      ]
     },
     "execution_count": 16,
     "metadata": {},
     "output_type": "execute_result"
    }
   ],
   "source": [
    "# separate to train and test\n",
    "\n",
    "\n",
    "train_data, test_data, train_label, test_label = train_test_split(final_t.drop('Survived', axis=1), \n",
    "                                                    final_t['Survived'], test_size=0.33)\n",
    "\n",
    "train_data.columns.tolist()"
   ]
  },
  {
   "cell_type": "code",
   "execution_count": 18,
   "metadata": {},
   "outputs": [
    {
     "name": "stdout",
     "output_type": "stream",
     "text": [
      "Scikit-Learn's Random Forest Classifier's prediction accuracy is: 84.72\n",
      "Time consumed for training: 0.165 seconds\n",
      "Time consumed for prediction: 0.01042 seconds\n"
     ]
    }
   ],
   "source": [
    "# randomr forest\n",
    "# # all the data fit to scikit learn model need to change to matrix \n",
    "# # Gini index select the best variables that creates most homogeneous/simiar sub-nodes to split parent nodes\n",
    "\n",
    "modelrf = RandomForestClassifier(random_state=0,\n",
    "                              n_estimators=100,\n",
    "                              max_features=6,\n",
    "                              max_depth=5)\n",
    "training_start = time.perf_counter()\n",
    "modelrf.fit(train_data,train_label)\n",
    "training_end = time.perf_counter()\n",
    "\n",
    "prediction_start = time.perf_counter()\n",
    "preds = modelrf.predict(test_data)\n",
    "prediction_end = time.perf_counter()\n",
    "\n",
    "acc_rfc = (preds == test_label).sum().astype(float) / len(preds)*100\n",
    "rfc_train_time = training_end-training_start\n",
    "rfc_prediction_time = prediction_end-prediction_start\n",
    "\n",
    "\n",
    "print(\"Scikit-Learn's Random Forest Classifier's prediction accuracy is: %3.2f\" % (acc_rfc))\n",
    "print(\"Time consumed for training: %4.3f seconds\" % (rfc_train_time))\n",
    "print(\"Time consumed for prediction: %6.5f seconds\" % (rfc_prediction_time))"
   ]
  },
  {
   "cell_type": "code",
   "execution_count": 19,
   "metadata": {},
   "outputs": [
    {
     "name": "stdout",
     "output_type": "stream",
     "text": [
      "XGBoost's prediction accuracy is: 81.48\n",
      "Time consumed for training: 0.028\n",
      "Time consumed for prediction: 0.00109 seconds\n"
     ]
    },
    {
     "name": "stderr",
     "output_type": "stream",
     "text": [
      "C:\\Users\\gqbwang\\AppData\\Local\\Continuum\\anaconda3\\lib\\site-packages\\ipykernel_launcher.py:9: FutureWarning: Method .as_matrix will be removed in a future version. Use .values instead.\n",
      "  if __name__ == '__main__':\n",
      "C:\\Users\\gqbwang\\AppData\\Local\\Continuum\\anaconda3\\lib\\site-packages\\ipykernel_launcher.py:13: FutureWarning: Method .as_matrix will be removed in a future version. Use .values instead.\n",
      "  del sys.path[0]\n"
     ]
    }
   ],
   "source": [
    "# xgboost \n",
    "xgb = XGBClassifier(n_estimators=100,\n",
    "                   max_depth=5,\n",
    "                   learning_rate=0.2,\n",
    "                   seed=123,\n",
    "                   n_jobs=8)\n",
    "\n",
    "training_start = time.perf_counter()\n",
    "xgb.fit(train_data.as_matrix(), train_label.as_matrix())\n",
    "training_end = time.perf_counter()\n",
    "\n",
    "prediction_start = time.perf_counter()\n",
    "preds = xgb.predict(test_data.as_matrix())\n",
    "prediction_end = time.perf_counter()\n",
    "\n",
    "acc_xgb = (preds == test_label).sum().astype(float) / len(preds)*100\n",
    "xgb_train_time = training_end-training_start\n",
    "xgb_prediction_time = prediction_end-prediction_start\n",
    "\n",
    "\n",
    "print(\"XGBoost's prediction accuracy is: %3.2f\" % (acc_xgb))\n",
    "print(\"Time consumed for training: %4.3f\" % (xgb_train_time))\n",
    "print(\"Time consumed for prediction: %6.5f seconds\" % (xgb_prediction_time))"
   ]
  },
  {
   "cell_type": "code",
   "execution_count": 27,
   "metadata": {
    "scrolled": true
   },
   "outputs": [
    {
     "name": "stdout",
     "output_type": "stream",
     "text": [
      "[_NumericColumn(key='Age', shape=(1,), default_value=None, dtype=tf.float32, normalizer_fn=None), _NumericColumn(key='Fare', shape=(1,), default_value=None, dtype=tf.float32, normalizer_fn=None), _NumericColumn(key='Parch', shape=(1,), default_value=None, dtype=tf.float32, normalizer_fn=None), _NumericColumn(key='Pclass', shape=(1,), default_value=None, dtype=tf.float32, normalizer_fn=None), _NumericColumn(key='SibSp', shape=(1,), default_value=None, dtype=tf.float32, normalizer_fn=None), _NumericColumn(key='Cabin_Mean', shape=(1,), default_value=None, dtype=tf.float32, normalizer_fn=None), _NumericColumn(key='Embarked_Mean', shape=(1,), default_value=None, dtype=tf.float32, normalizer_fn=None), _NumericColumn(key='Sex_Mean', shape=(1,), default_value=None, dtype=tf.float32, normalizer_fn=None)]\n",
      "Dense Neural Network Classifier's prediction accuracy is: 71.99\n",
      "Time consumed for training: 5.371 seconds\n",
      "Time consumed for prediction: 0.00006 seconds\n"
     ]
    }
   ],
   "source": [
    "# neural network\n",
    "# use the same number of neurons as input variables as starting points\n",
    "# the weights are initialed using a small gaussian(normal distribution) randomnumber. \n",
    "\n",
    "# from keras.models import Sequential\n",
    "# from keras.layers import Dense\n",
    "# traing label and test label must be integer\n",
    "train_label = train_label.map(int)\n",
    "test_label= test_label.map(int)\n",
    "\n",
    "# only output errors\n",
    "tf.logging.set_verbosity(tf.logging.ERROR)\n",
    "\n",
    "# define initial hyperparameters\n",
    "# one epoch= one forward pass and one backpropagation of all training examples(one epoch could have multiple iterations)\n",
    "# batch_size is the number of training observation for one iteration. Higher numbers take more momory space.\n",
    "# number of iterations = number of passing: one pass = one forward pass and one backward pass\n",
    "# example: if we have 1000 training example, one batch size is 500, then it will take 2 iteration completed one epoch\n",
    "batch_size = 1 # means number of training observations used for one iteration\n",
    "train_steps = 1000 # training_step is equal to iteration \n",
    "hidden_units=[10,10] # mean the first hidden layer has 10 nodes and the second layer has 10 nodes as well\n",
    "train_data.keys()\n",
    "\n",
    "\n",
    "# create a numeric column for every column of the training set\n",
    "feature_cols = []\n",
    "for key in train_data.keys():\n",
    "     feature_cols.append(tf.feature_column.numeric_column(key=key))\n",
    "\n",
    "print(feature_cols)\n",
    "\n",
    "# build model with input function\n",
    "# n_classes=2 mean binary problem\n",
    "# shuffle whether to read record in random order\n",
    "dnn = tf.estimator.DNNClassifier(hidden_units=hidden_units, feature_columns=feature_cols, n_classes=2)\n",
    "\n",
    "input_fn = tf.estimator.inputs.pandas_input_fn(x=train_data, \n",
    "                                               y=train_label,\n",
    "                                               batch_size=batch_size,\n",
    "                                               shuffle=False)\n",
    "\n",
    "# fit the DNN to the training data\n",
    "training_start = time.perf_counter()\n",
    "dnn.train(input_fn = input_fn, steps=train_steps)\n",
    "training_end = time.perf_counter()\n",
    "\n",
    "# predict test data\n",
    "predict_input_func = tf.estimator.inputs.pandas_input_fn(x=test_data, shuffle=False)\n",
    "\n",
    "prediction_start = time.perf_counter()\n",
    "preds = dnn.predict(input_fn=predict_input_func)\n",
    "prediction_end = time.perf_counter()\n",
    "\n",
    "# evaluate results\n",
    "final_preds = []\n",
    "for pred in preds:\n",
    "    final_preds.append(pred['class_ids'][0])\n",
    "    \n",
    "acc_dnn = (final_preds == test_label).sum().astype(float) / len(final_preds)*100\n",
    "dnn_train_time = training_end-training_start\n",
    "dnn_prediction_time = prediction_end-prediction_start\n",
    "\n",
    "print(\"Dense Neural Network Classifier's prediction accuracy is: %3.2f\" % (acc_dnn))\n",
    "print(\"Time consumed for training: %4.3f seconds\" % (dnn_train_time))\n",
    "print(\"Time consumed for prediction: %6.5f seconds\" % (dnn_prediction_time))\n",
    "\n"
   ]
  },
  {
   "cell_type": "code",
   "execution_count": 28,
   "metadata": {},
   "outputs": [
    {
     "data": {
      "text/html": [
       "<div>\n",
       "<style scoped>\n",
       "    .dataframe tbody tr th:only-of-type {\n",
       "        vertical-align: middle;\n",
       "    }\n",
       "\n",
       "    .dataframe tbody tr th {\n",
       "        vertical-align: top;\n",
       "    }\n",
       "\n",
       "    .dataframe thead th {\n",
       "        text-align: right;\n",
       "    }\n",
       "</style>\n",
       "<table border=\"1\" class=\"dataframe\">\n",
       "  <thead>\n",
       "    <tr style=\"text-align: right;\">\n",
       "      <th></th>\n",
       "      <th>Score</th>\n",
       "      <th>Runtime Training</th>\n",
       "      <th>Runtime Prediction</th>\n",
       "    </tr>\n",
       "    <tr>\n",
       "      <th>Model</th>\n",
       "      <th></th>\n",
       "      <th></th>\n",
       "      <th></th>\n",
       "    </tr>\n",
       "  </thead>\n",
       "  <tbody>\n",
       "    <tr>\n",
       "      <th>Random Forest</th>\n",
       "      <td>84.722222</td>\n",
       "      <td>0.165217</td>\n",
       "      <td>0.010424</td>\n",
       "    </tr>\n",
       "    <tr>\n",
       "      <th>XGBoost</th>\n",
       "      <td>81.481481</td>\n",
       "      <td>0.028045</td>\n",
       "      <td>0.001094</td>\n",
       "    </tr>\n",
       "    <tr>\n",
       "      <th>DNN</th>\n",
       "      <td>71.990741</td>\n",
       "      <td>5.371439</td>\n",
       "      <td>0.000055</td>\n",
       "    </tr>\n",
       "  </tbody>\n",
       "</table>\n",
       "</div>"
      ],
      "text/plain": [
       "                   Score  Runtime Training  Runtime Prediction\n",
       "Model                                                         \n",
       "Random Forest  84.722222          0.165217            0.010424\n",
       "XGBoost        81.481481          0.028045            0.001094\n",
       "DNN            71.990741          5.371439            0.000055"
      ]
     },
     "execution_count": 28,
     "metadata": {},
     "output_type": "execute_result"
    }
   ],
   "source": [
    "# combine model performance result \n",
    "results = pd.DataFrame({\n",
    "    'Model': ['XGBoost', 'Random Forest', 'DNN'],\n",
    "    'Score': [ acc_xgb, acc_rfc, acc_dnn],\n",
    "    'Runtime Training': [ xgb_train_time, rfc_train_time,  dnn_train_time],\n",
    "    'Runtime Prediction': [ xgb_prediction_time, rfc_prediction_time, dnn_prediction_time]})\n",
    "\n",
    "result_df = results.sort_values(by='Score', ascending=False)\n",
    "result_df = result_df.set_index('Model')\n",
    "result_df\n"
   ]
  },
  {
   "cell_type": "code",
   "execution_count": 29,
   "metadata": {},
   "outputs": [
    {
     "data": {
      "text/plain": [
       "<matplotlib.axes._subplots.AxesSubplot at 0x1b77540f400>"
      ]
     },
     "execution_count": 29,
     "metadata": {},
     "output_type": "execute_result"
    },
    {
     "data": {
      "image/png": "[encoded data removed]",
      "text/plain": [
       "<Figure size 432x288 with 1 Axes>"
      ]
     },
     "metadata": {},
     "output_type": "display_data"
    }
   ],
   "source": [
    "# show xgboost variable importance: based on how often the variable used to split trees \n",
    "importances = pd.DataFrame({\n",
    "    'Feature': train_data.columns,\n",
    "    'Importance': xgb.feature_importances_\n",
    "})\n",
    "importances = importances.sort_values(by='Importance', ascending=False)\n",
    "importances = importances.set_index('Feature')\n",
    "importances[:10]\n",
    "\n",
    "importances[:10].plot.bar()"
   ]
  },
  {
   "cell_type": "code",
   "execution_count": 30,
   "metadata": {},
   "outputs": [
    {
     "data": {
      "text/plain": [
       "<matplotlib.axes._subplots.AxesSubplot at 0x1b7737d1b38>"
      ]
     },
     "execution_count": 30,
     "metadata": {},
     "output_type": "execute_result"
    },
    {
     "data": {
      "image/png": "[encoded data removed]",
      "text/plain": [
       "<Figure size 432x288 with 1 Axes>"
      ]
     },
     "metadata": {},
     "output_type": "display_data"
    }
   ],
   "source": [
    "# show three algothim variable importance of random forest: use the accuracy decreses if the variable is exclude out(shuffle) as the measurement\n",
    "importances = pd.DataFrame({\n",
    "    'Feature': train_data.columns,\n",
    "    'Importance': modelrf.feature_importances_\n",
    "})\n",
    "importances = importances.sort_values(by='Importance', ascending=False)\n",
    "importances = importances.set_index('Feature')\n",
    "importances[:10]\n",
    "\n",
    "importances[:10].plot.bar()"
   ]
  },
  {
   "cell_type": "code",
   "execution_count": 33,
   "metadata": {},
   "outputs": [
    {
     "name": "stderr",
     "output_type": "stream",
     "text": [
      "C:\\Users\\gqbwang\\AppData\\Local\\Continuum\\anaconda3\\lib\\site-packages\\ipykernel_launcher.py:7: FutureWarning: Method .as_matrix will be removed in a future version. Use .values instead.\n",
      "  import sys\n",
      "C:\\Users\\gqbwang\\AppData\\Local\\Continuum\\anaconda3\\lib\\site-packages\\ipykernel_launcher.py:14: FutureWarning: Method .as_matrix will be removed in a future version. Use .values instead.\n",
      "  \n",
      "C:\\Users\\gqbwang\\AppData\\Local\\Continuum\\anaconda3\\lib\\site-packages\\ipykernel_launcher.py:19: SettingWithCopyWarning: \n",
      "A value is trying to be set on a copy of a slice from a DataFrame\n",
      "\n",
      "See the caveats in the documentation: http://pandas.pydata.org/pandas-docs/stable/indexing.html#indexing-view-versus-copy\n",
      "C:\\Users\\gqbwang\\AppData\\Local\\Continuum\\anaconda3\\lib\\site-packages\\ipykernel_launcher.py:25: SettingWithCopyWarning: \n",
      "A value is trying to be set on a copy of a slice from a DataFrame.\n",
      "Try using .loc[row_indexer,col_indexer] = value instead\n",
      "\n",
      "See the caveats in the documentation: http://pandas.pydata.org/pandas-docs/stable/indexing.html#indexing-view-versus-copy\n"
     ]
    },
    {
     "name": "stdout",
     "output_type": "stream",
     "text": [
      "[0. 0. 0. 1. 0.]\n",
      "col_0     0.0  1.0\n",
      "Survived          \n",
      "0         292   19\n",
      "1          47   74\n",
      "43\n",
      "45\n",
      "     Pred_Prob                     Survived\n",
      "          size      amin      amax      sum\n",
      "Rank                                       \n",
      "1         43.0  0.029159  0.052187        4\n",
      "2         43.0  0.052204  0.059422        3\n",
      "3         43.0  0.059839  0.068134        2\n",
      "4         43.0  0.068506  0.071403        4\n",
      "5         43.0  0.071403  0.078674        1\n",
      "6         43.0  0.078757  0.188838        5\n",
      "7         43.0  0.190747  0.294568       15\n",
      "8         43.0  0.296752  0.533981       17\n",
      "9         43.0  0.535666  0.647136       30\n",
      "10        45.0  0.663344  1.000000       40\n",
      "recall/sensitivity is: 0.61157\n",
      "specificity is: 0.93891\n",
      "precision is: 0.79570\n",
      "AUROC is: 0.8572054954691611\n"
     ]
    },
    {
     "data": {
      "image/png": "[encoded data removed]",
      "text/plain": [
       "<Figure size 432x288 with 1 Axes>"
      ]
     },
     "metadata": {},
     "output_type": "display_data"
    }
   ],
   "source": [
    "import warnings\n",
    "warnings.filterwarnings(\"ignore\", category=DeprecationWarning)\n",
    "\n",
    "# rf model evaluation\n",
    "# confusion matrix\n",
    "test_data2 = test_data.copy()\n",
    "preds = modelrf.predict(test_data.as_matrix())\n",
    "print(preds[:5])\n",
    "cm = pd.DataFrame(pd.crosstab(test_label,preds))\n",
    "print(cm)\n",
    "\n",
    "# Predicted Probablity vs Actual\n",
    "\n",
    "predict_proba= modelrf.predict_proba(test_data.as_matrix())\n",
    "test_data2['Pred_Prob'] = predict_proba[:,1]\n",
    "\n",
    "PredProb_Actual = pd.merge(test_data2,pd.DataFrame(test_label),left_index=True,right_index=True,how='left')\n",
    "PredProb_Actual_Col = PredProb_Actual[['Survived','Pred_Prob']]\n",
    "PredProb_Actual_Col.sort_values(by=['Pred_Prob'],inplace=True)\n",
    "\n",
    "X1=round(PredProb_Actual_Col.shape[0]/10)\n",
    "X2=PredProb_Actual_Col.shape[0] - X1*9\n",
    "print(X1)\n",
    "print(X2)\n",
    "PredProb_Actual_Col['Rank']= np.repeat([1, 2, 3, 4, 5, 6, 7, 8, 9, 10],[X1, X1, X1, X1, X1, X1, X1, X1, X1,X2])\n",
    "PredProb_Actual_Col.head()\n",
    "print(PredProb_Actual_Col.groupby(['Rank']).agg({'Pred_Prob':[np.size,np.min,np.max],'Survived':[np.sum]}))\n",
    "\n",
    "# Sensitivity, Specificity, Precision\n",
    "from sklearn.metrics import roc_curve, roc_auc_score\n",
    "from matplotlib import pyplot as plt\n",
    "\n",
    "print(\"recall/sensitivity is: %3.5f\" % (cm.loc[1,1]/(cm.loc[1,0]+cm.loc[1,1])) ) # among all the acutal positive, how much are predicted as positive\n",
    "print(\"specificity is: %3.5f\" % (cm.loc[0,0]/(cm.loc[0,0]+cm.loc[0,1])) ) # among all the actual negative, how much are predicted as negative\n",
    "print(\"precision is: %3.5f\" % (cm.loc[1,1]/(cm.loc[0,1]+cm.loc[1,1])) ) # among all the predicted as positive, how many of them are actual positive\n",
    "\n",
    "# AUROC\n",
    "\n",
    "print(\"AUROC is:\",roc_auc_score(test_label, predict_proba[:,1]))\n",
    "fpr, tpr, _ = roc_curve(test_label, predict_proba[:,1])\n",
    "\n",
    "plt.clf()\n",
    "plt.plot(fpr, tpr)\n",
    "plt.xlabel('False Positive Rate')\n",
    "plt.ylabel('True Positive Rate')\n",
    "plt.title('ROC curve')\n",
    "plt.show()"
   ]
  },
  {
   "cell_type": "code",
   "execution_count": 37,
   "metadata": {},
   "outputs": [
    {
     "name": "stdout",
     "output_type": "stream",
     "text": [
      "Scikit-Learn's Random Forest Classifier's prediction accuracy(train) is: 86.66\n",
      "Scikit-Learn's Random Forest Classifier's prediction accuracy(test) is: 84.72\n"
     ]
    }
   ],
   "source": [
    "# get rf model accuracy on both train and test dataset to check overfitting\n",
    "preds = modelrf.predict(test_data)\n",
    "preds_t = modelrf.predict(train_data)\n",
    "\n",
    "acc_rfc_t = (preds_t == train_label).sum().astype(float) / len(preds_t)*100\n",
    "acc_rfc = (preds == test_label).sum().astype(float) / len(preds)*100\n",
    "rfc_train_time = training_end-training_start\n",
    "rfc_prediction_time = prediction_end-prediction_start\n",
    "\n",
    "\n",
    "print(\"Scikit-Learn's Random Forest Classifier's prediction accuracy(train) is: %3.2f\" % (acc_rfc_t))\n",
    "print(\"Scikit-Learn's Random Forest Classifier's prediction accuracy(test) is: %3.2f\" % (acc_rfc))"
   ]
  },
  {
   "cell_type": "code",
   "execution_count": null,
   "metadata": {},
   "outputs": [],
   "source": []
  }
 ],
 "metadata": {
  "kernelspec": {
   "display_name": "Python 3",
   "language": "python",
   "name": "python3"
  },
  "language_info": {
   "codemirror_mode": {
    "name": "ipython",
    "version": 3
   },
   "file_extension": ".py",
   "mimetype": "text/x-python",
   "name": "python",
   "nbconvert_exporter": "python",
   "pygments_lexer": "ipython3",
   "version": "3.6.5"
  }
 },
 "nbformat": 4,
 "nbformat_minor": 2
}
